{
 "cells": [
  {
   "cell_type": "markdown",
   "metadata": {},
   "source": [
    "Этот модуль нужен для замены имён участников процесса на их роли, чтобы потом имена нам не мешали. "
   ]
  },
  {
   "cell_type": "code",
   "execution_count": 1,
   "metadata": {},
   "outputs": [],
   "source": [
    "import re"
   ]
  },
  {
   "cell_type": "code",
   "execution_count": 2,
   "metadata": {},
   "outputs": [],
   "source": [
    "from meta_extraction import names_to_meta"
   ]
  },
  {
   "cell_type": "code",
   "execution_count": 3,
   "metadata": {},
   "outputs": [],
   "source": [
    "def hide_name(text, role):\n",
    "    names = [name.strip(\" \") for name in names_to_meta(text)[role].split(\",\")] \n",
    "    text_with_hidden_names = text\n",
    "    for name in names:\n",
    "        role_word = role.upper()\n",
    "        name_to_split = name.split(\" \")\n",
    "        name_variations = name_to_split[0][0:-2] + r\"[a-яё]{1,5}\" + \" \" + name_to_split[1]\n",
    "        text_with_hidden_names = re.sub(name_variations, role_word, text_with_hidden_names)\n",
    "    return text_with_hidden_names"
   ]
  },
  {
   "cell_type": "markdown",
   "metadata": {},
   "source": [
    "Основная функция-запикивалка, на вход принимает текст и список ролей."
   ]
  },
  {
   "cell_type": "code",
   "execution_count": 4,
   "metadata": {},
   "outputs": [],
   "source": [
    "def hide_all_names(text):\n",
    "    roles = [\"judge\", \"prosecutor\", \"advocate\", \"accused\", \"secretary\"]\n",
    "    text = text\n",
    "    for role in roles:\n",
    "        text = person_hider(text, role)\n",
    "    return text    "
   ]
  }
 ],
 "metadata": {
  "kernelspec": {
   "display_name": "Python 3",
   "language": "python",
   "name": "python3"
  },
  "language_info": {
   "codemirror_mode": {
    "name": "ipython",
    "version": 3
   },
   "file_extension": ".py",
   "mimetype": "text/x-python",
   "name": "python",
   "nbconvert_exporter": "python",
   "pygments_lexer": "ipython3",
   "version": "3.6.5"
  }
 },
 "nbformat": 4,
 "nbformat_minor": 2
}
