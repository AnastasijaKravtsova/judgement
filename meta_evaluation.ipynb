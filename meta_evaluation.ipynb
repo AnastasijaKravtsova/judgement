{
 "cells": [
  {
   "cell_type": "code",
   "execution_count": 2,
   "metadata": {},
   "outputs": [],
   "source": [
    "import os\n",
    "from bs4 import BeautifulSoup\n",
    "from natasha import NamesExtractor  \n",
    "import json\n",
    "extractor = NamesExtractor()\n",
    "import re\n",
    "#регулярка для имён\n",
    "fio = re.compile(\"[А-ЯЁ][а-яё]+ [А-ЯЁ]\\.[А-ЯЁ]\\.\")\n",
    "fio_cifer = re.compile(\"[А-ЯЁ][а-яё]+ ФИО[0-9]{1,3}\")\n",
    "fio_short = re.compile(\"ФИО[0-9]{1,3}\")\n",
    "import pandas as pd\n",
    "import random"
   ]
  },
  {
   "cell_type": "code",
   "execution_count": 3,
   "metadata": {},
   "outputs": [],
   "source": [
    "from meta_extraction import final_meta, meta_lines, get_meta_names\n",
    "from meta_extraction import get_parts, parse_xml"
   ]
  },
  {
   "cell_type": "code",
   "execution_count": 4,
   "metadata": {},
   "outputs": [],
   "source": [
    "import numpy as np"
   ]
  },
  {
   "cell_type": "markdown",
   "metadata": {},
   "source": [
    "### Сбор данных для оценки. "
   ]
  },
  {
   "cell_type": "code",
   "execution_count": 5,
   "metadata": {},
   "outputs": [],
   "source": [
    "def getting_paths(path_to_folder):\n",
    "    paths = []\n",
    "    for f in os.walk(path_to_folder):\n",
    "        for path in f[2]:\n",
    "            paths.append(path_to_folder+\"/\"+path)\n",
    "    return paths"
   ]
  },
  {
   "cell_type": "code",
   "execution_count": 5,
   "metadata": {},
   "outputs": [],
   "source": [
    "def only_criminal(paths):\n",
    "    new_paths = []\n",
    "    for path in paths:\n",
    "        text = \"\"\n",
    "        with open(path, \"r\") as f:\n",
    "            for line in f.readlines():\n",
    "                text += line\n",
    "        if \"<vidpr>Уголовное</vidpr>\" not in text: \n",
    "            os.remove(path)\n",
    "        else:\n",
    "            new_paths.append(path) \n",
    "    return new_paths            "
   ]
  },
  {
   "cell_type": "code",
   "execution_count": 6,
   "metadata": {},
   "outputs": [],
   "source": [
    "persons_meta = [\"prosecutor\", \"advocate\", \"accused\", \"secretary\"]"
   ]
  },
  {
   "cell_type": "code",
   "execution_count": 8,
   "metadata": {},
   "outputs": [],
   "source": [
    "def random_corpus(link, number):\n",
    "    links_to_folders = []\n",
    "    links_to_files = []\n",
    "    for x in os.walk(link):\n",
    "        links_to_folders.append(x[0])\n",
    "    for link in links_to_folders:\n",
    "        links_to_files += getting_paths(link)\n",
    "    all_links_to_files = [link for link in links_to_files if \"//\" not in link]\n",
    "    corpus_link = random.sample(all_links_to_files, number)\n",
    "    return corpus_link"
   ]
  },
  {
   "cell_type": "code",
   "execution_count": 9,
   "metadata": {},
   "outputs": [],
   "source": [
    "rand_links = random_corpus(\"/home/laidhimonthegreen/Документы/coursework/evaluation_data/\", 100) "
   ]
  },
  {
   "cell_type": "markdown",
   "metadata": {},
   "source": [
    "Ссылки были сохранены в файл links_standard.txt"
   ]
  },
  {
   "cell_type": "code",
   "execution_count": 1,
   "metadata": {},
   "outputs": [],
   "source": [
    "our_links = []\n",
    "with open(\"links_standard.txt\", \"r\") as f:\n",
    "    for line in f.readlines():\n",
    "        our_links.append(line.strip())"
   ]
  },
  {
   "cell_type": "markdown",
   "metadata": {},
   "source": [
    "Золотой стандарт был предварительно размечен вручную. "
   ]
  },
  {
   "cell_type": "code",
   "execution_count": 10,
   "metadata": {},
   "outputs": [
    {
     "name": "stderr",
     "output_type": "stream",
     "text": [
      "/home/laidhimonthegreen/anaconda3/lib/python3.7/site-packages/ipykernel_launcher.py:1: FutureWarning: from_csv is deprecated. Please use read_csv(...) instead. Note that some of the default arguments are different, so please refer to the documentation for from_csv when changing your function calls\n",
      "  \"\"\"Entry point for launching an IPython kernel.\n"
     ]
    }
   ],
   "source": [
    "goldstandard = pd.DataFrame.from_csv(\"/home/laidhimonthegreen/Документы/coursework/gold_standard.csv\", sep = \"\\t\")"
   ]
  },
  {
   "cell_type": "code",
   "execution_count": 9,
   "metadata": {},
   "outputs": [],
   "source": [
    "roles = [\"number\",\"prosecutor\", \"accused\", \"secretary\", \"advocate\"]"
   ]
  },
  {
   "cell_type": "code",
   "execution_count": 10,
   "metadata": {},
   "outputs": [],
   "source": [
    "script_martkup_df = pd.DataFrame(columns = roles)"
   ]
  },
  {
   "cell_type": "markdown",
   "metadata": {},
   "source": [
    "Добавляем данные, извлеченные из корпуса автоматически. "
   ]
  },
  {
   "cell_type": "code",
   "execution_count": 8,
   "metadata": {},
   "outputs": [],
   "source": [
    "prosecutors = []\n",
    "accuseds = []\n",
    "secretaries = []\n",
    "advocates = []"
   ]
  },
  {
   "cell_type": "code",
   "execution_count": 9,
   "metadata": {},
   "outputs": [],
   "source": [
    "for i, link in enumerate(our_links): \n",
    "    try: \n",
    "        roledict = final_meta(link)    \n",
    "        accuseds.append(roledict[\"accused\"])\n",
    "        prosecutors.append(roledict[\"prosecutor\"])\n",
    "        secretaries.append(roledict[\"secretary\"])\n",
    "        advocates.append(roledict[\"advocate\"])\n",
    "    except IndexError:\n",
    "        prosecutors.append(\"not found\")\n",
    "        accuseds.append(\"not found\")\n",
    "        secretaries.append(\"not found\")\n",
    "        advocates.append(\"not found\")"
   ]
  },
  {
   "cell_type": "markdown",
   "metadata": {},
   "source": [
    "### Оценка."
   ]
  },
  {
   "cell_type": "markdown",
   "metadata": {},
   "source": [
    "correct -- совпадает полностью  \n",
    "partial -- ошибка в падежах, пересекается ФИО, совпадает один из людей  \n",
    "incorrect -- полная ошибка  \n",
    "spurious -- not found, но что-то нашли  \n",
    "missing -- что-то есть в золотом стандарте, но not found  "
   ]
  },
  {
   "cell_type": "code",
   "execution_count": 25,
   "metadata": {},
   "outputs": [],
   "source": [
    "#функция, которая ищет частичные совпадения \n",
    "def get_partials(name1, name2):\n",
    "    a = len(name1.split()[0][0:-2])\n",
    "    if len(name2) > a and \" \" in name1 and \" \" in name2:\n",
    "        if name1.split()[0][:a] + \" \" + name1.split()[1] == name2.split()[0][:a] + \" \" + name2.split()[1]: \n",
    "            return 1\n",
    "        else:\n",
    "            return 0\n",
    "    else:\n",
    "        return 0"
   ]
  },
  {
   "cell_type": "code",
   "execution_count": 26,
   "metadata": {},
   "outputs": [],
   "source": [
    "#достаём нужные нам переменные\n",
    "def get_variables(preds, standard):\n",
    "    not_cases, correct, partial, missing, spurious, incorrect = 0, 0, 0, 0, 0, 0\n",
    "    for i, name in enumerate(preds):\n",
    "        name1, name2 = preds[i], standard[i] \n",
    "        if name1 == \"not found\" and name2 == \"not found\":\n",
    "            not_cases += 1\n",
    "        elif name1 == \"not found\":\n",
    "            missing += 1\n",
    "        elif name2 == \"not found\":\n",
    "            spurious += 1\n",
    "        elif name1 == name2:\n",
    "            correct += 1 \n",
    "        elif get_partials(name1, name2) == 1: \n",
    "            partial += 1\n",
    "        elif \",\" in name1:\n",
    "            names1 = name1.split(\",\")\n",
    "            names2 = name2.split(\",\")\n",
    "            if get_partials(names1[0], names2[0]) or get_partials(names1[1], names2[0]) or get_partials(names1[0], names2[-1]) or get_partials(names1[1], names2[-1]):\n",
    "                partial += 1 \n",
    "        else:\n",
    "            incorrect += 1\n",
    "    return not_cases, correct, partial, missing, spurious, incorrect"
   ]
  },
  {
   "cell_type": "code",
   "execution_count": 27,
   "metadata": {},
   "outputs": [],
   "source": [
    "#метрика\n",
    "def get_metric(variables):\n",
    "    correct = variables[1]\n",
    "    partial = variables[2]\n",
    "    incorrect = variables[5]\n",
    "    missing = variables[3]\n",
    "    spurious = variables[4]\n",
    "    \n",
    "    numerator = correct + 0.5*partial\n",
    "    precision = round(numerator/(correct + spurious + partial + incorrect), 2)\n",
    "    recall = round(numerator/(correct + missing + partial + incorrect), 2)\n",
    "    \n",
    "    return precision, recall"
   ]
  },
  {
   "cell_type": "code",
   "execution_count": 28,
   "metadata": {},
   "outputs": [],
   "source": [
    "secretaries_gold = list(goldstandard[\"secretary\"])\n",
    "accuseds_gold = list(goldstandard[\"accused\"])\n",
    "prosecutors_gold = list(goldstandard[\"prosecutor\"])\n",
    "advocates_gold = list(goldstandard[\"advocate\"])\n",
    "all_people = advocates + secretaries + accuseds + prosecutors\n",
    "all_people_gold = advocates_gold + secretaries_gold + accuseds_gold + prosecutors_gold"
   ]
  },
  {
   "cell_type": "code",
   "execution_count": 29,
   "metadata": {},
   "outputs": [
    {
     "name": "stdout",
     "output_type": "stream",
     "text": [
      "(0.79, 0.8) (0.84, 0.84) (0.78, 0.78) (0.7, 0.64)\n"
     ]
    }
   ],
   "source": [
    "print (get_metric(get_variables(prosecutors, prosecutors_gold)),\n",
    "        get_metric(get_variables(advocates, advocates_gold)), \n",
    "        get_metric(get_variables(secretaries, secretaries_gold)),\n",
    "        get_metric(get_variables(accuseds, accuseds_gold)))"
   ]
  },
  {
   "cell_type": "code",
   "execution_count": 30,
   "metadata": {},
   "outputs": [
    {
     "data": {
      "text/plain": [
       "(0.78, 0.76)"
      ]
     },
     "execution_count": 30,
     "metadata": {},
     "output_type": "execute_result"
    }
   ],
   "source": [
    "get_metric (get_variables(all_people, all_people_gold))"
   ]
  }
 ],
 "metadata": {
  "kernelspec": {
   "display_name": "Python 3",
   "language": "python",
   "name": "python3"
  },
  "language_info": {
   "codemirror_mode": {
    "name": "ipython",
    "version": 3
   },
   "file_extension": ".py",
   "mimetype": "text/x-python",
   "name": "python",
   "nbconvert_exporter": "python",
   "pygments_lexer": "ipython3",
   "version": "3.7.3"
  }
 },
 "nbformat": 4,
 "nbformat_minor": 2
}
