{
 "cells": [
  {
   "cell_type": "code",
   "execution_count": 1,
   "metadata": {},
   "outputs": [],
   "source": [
    "import os\n",
    "from bs4 import BeautifulSoup\n",
    "from natasha import NamesExtractor  \n",
    "import json\n",
    "extractor = NamesExtractor()\n",
    "import re\n",
    "#регулярка для имён\n",
    "fio = re.compile(\"[А-ЯЁ][а-яё]+ [А-ЯЁ]\\.[А-ЯЁ]\\.\")\n",
    "fio_cifer = re.compile(\"[А-ЯЁ][а-яё]+ ФИО[0-9]{1,3}\")\n",
    "fio_short = re.compile(\"ФИО[0-9]{1,3}\")\n",
    "import pandas as pd\n",
    "import random"
   ]
  },
  {
   "cell_type": "code",
   "execution_count": 2,
   "metadata": {},
   "outputs": [],
   "source": [
    "from meta_extraction import final_meta, meta_lines, get_meta_names\n",
    "from meta_extraction import get_parts, parse_xml"
   ]
  },
  {
   "cell_type": "code",
   "execution_count": 3,
   "metadata": {},
   "outputs": [],
   "source": [
    "import numpy as np"
   ]
  },
  {
   "cell_type": "code",
   "execution_count": 4,
   "metadata": {},
   "outputs": [],
   "source": [
    "def getting_paths(path_to_folder):\n",
    "    paths = []\n",
    "    for f in os.walk(path_to_folder):\n",
    "        for path in f[2]:\n",
    "            paths.append(path_to_folder+\"/\"+path)\n",
    "    return paths"
   ]
  },
  {
   "cell_type": "code",
   "execution_count": 5,
   "metadata": {},
   "outputs": [],
   "source": [
    "def only_criminal(paths):\n",
    "    new_paths = []\n",
    "    for path in paths:\n",
    "        text = \"\"\n",
    "        with open(path, \"r\") as f:\n",
    "            for line in f.readlines():\n",
    "                text += line\n",
    "        if \"<vidpr>Уголовное</vidpr>\" not in text: \n",
    "            os.remove(path)\n",
    "        else:\n",
    "            new_paths.append(path) \n",
    "    return new_paths            "
   ]
  },
  {
   "cell_type": "code",
   "execution_count": 6,
   "metadata": {},
   "outputs": [],
   "source": [
    "persons_meta = [\"prosecutor\", \"advocate\", \"accused\", \"secretary\"]"
   ]
  },
  {
   "cell_type": "code",
   "execution_count": 8,
   "metadata": {},
   "outputs": [],
   "source": [
    "def random_corpus(link, number):\n",
    "    links_to_folders = []\n",
    "    links_to_files = []\n",
    "    for x in os.walk(link):\n",
    "        links_to_folders.append(x[0])\n",
    "    for link in links_to_folders:\n",
    "        links_to_files += getting_paths(link)\n",
    "    all_links_to_files = [link for link in links_to_files if \"//\" not in link]\n",
    "    corpus_link = random.sample(all_links_to_files, number)\n",
    "    return corpus_link"
   ]
  },
  {
   "cell_type": "code",
   "execution_count": 9,
   "metadata": {},
   "outputs": [],
   "source": [
    "rand_links = random_corpus(\"/home/laidhimonthegreen/Документы/coursework/evaluation_data/\", 100) "
   ]
  },
  {
   "cell_type": "code",
   "execution_count": 10,
   "metadata": {},
   "outputs": [],
   "source": [
    "heads = []\n",
    "for link in rand_links:\n",
    "    heads.append(get_parts(parse_xml(link)[1])[1])"
   ]
  },
  {
   "cell_type": "code",
   "execution_count": 148,
   "metadata": {},
   "outputs": [],
   "source": [
    "with open(\"herads.txt\", \"w\") as f:\n",
    "    for head in heads:\n",
    "        f.write(head + \"\\n\")"
   ]
  },
  {
   "cell_type": "code",
   "execution_count": 5,
   "metadata": {},
   "outputs": [
    {
     "name": "stderr",
     "output_type": "stream",
     "text": [
      "/home/laidhimonthegreen/anaconda3/lib/python3.7/site-packages/ipykernel_launcher.py:1: FutureWarning: from_csv is deprecated. Please use read_csv(...) instead. Note that some of the default arguments are different, so please refer to the documentation for from_csv when changing your function calls\n",
      "  \"\"\"Entry point for launching an IPython kernel.\n"
     ]
    }
   ],
   "source": [
    "goldstandard = pd.DataFrame.from_csv(\"/home/laidhimonthegreen/Документы/coursework/gold_standard.csv\", sep = \"\\t\")"
   ]
  },
  {
   "cell_type": "code",
   "execution_count": 6,
   "metadata": {},
   "outputs": [],
   "source": [
    "roles = [\"number\",\"prosecutor\", \"accused\", \"secretary\", \"advocate\"]"
   ]
  },
  {
   "cell_type": "code",
   "execution_count": 7,
   "metadata": {},
   "outputs": [],
   "source": [
    "script_martkup_df = pd.DataFrame(columns = roles)"
   ]
  },
  {
   "cell_type": "code",
   "execution_count": 8,
   "metadata": {},
   "outputs": [],
   "source": [
    "prosecutors = []\n",
    "accuseds = []\n",
    "secretaries = []\n",
    "advocates = []"
   ]
  },
  {
   "cell_type": "code",
   "execution_count": 9,
   "metadata": {},
   "outputs": [],
   "source": [
    "our_links = []\n",
    "with open(\"links_standard.txt\", \"r\") as f:\n",
    "    for line in f.readlines():\n",
    "        our_links.append(line.strip())"
   ]
  },
  {
   "cell_type": "code",
   "execution_count": 10,
   "metadata": {},
   "outputs": [
    {
     "data": {
      "text/plain": [
       "[('prosecutor', 'Будаев В.В.'),\n",
       " ('accused', 'Фелифаров Ф.А.'),\n",
       " ('advocate', 'Цыреновой Н.Р.'),\n",
       " ('secretary', 'Хантаева Н.В.'),\n",
       " ('accused', 'Фелифаров Ф.А.')]"
      ]
     },
     "execution_count": 10,
     "metadata": {},
     "output_type": "execute_result"
    }
   ],
   "source": [
    "get_meta_names(meta_lines(our_links[39]))"
   ]
  },
  {
   "cell_type": "code",
   "execution_count": 11,
   "metadata": {},
   "outputs": [],
   "source": [
    "for i, link in enumerate(our_links): \n",
    "    try: \n",
    "        roledict = final_meta(link)    \n",
    "        accuseds.append(roledict[\"accused\"])\n",
    "        prosecutors.append(roledict[\"prosecutor\"])\n",
    "        secretaries.append(roledict[\"secretary\"])\n",
    "        advocates.append(roledict[\"advocate\"])\n",
    "    except IndexError:\n",
    "        prosecutors.append(\"not found\")\n",
    "        accuseds.append(\"not found\")\n",
    "        secretaries.append(\"not found\")\n",
    "        advocates.append(\"not found\")"
   ]
  },
  {
   "cell_type": "code",
   "execution_count": 12,
   "metadata": {},
   "outputs": [
    {
     "data": {
      "text/plain": [
       "['Щербинина С.Ф.',\n",
       " 'Тугульдурова Э.Ц.',\n",
       " 'Тихановой А.Ю.',\n",
       " 'Самойленко Е.В.',\n",
       " 'Куськеева Л.И.',\n",
       " 'Куськеева Л.И.',\n",
       " 'Золоева Э.Г.',\n",
       " 'not found',\n",
       " 'Манджиева О.Д.',\n",
       " 'Сухарева Е.П.']"
      ]
     },
     "execution_count": 12,
     "metadata": {},
     "output_type": "execute_result"
    }
   ],
   "source": [
    "secretaries[0:10]"
   ]
  },
  {
   "cell_type": "code",
   "execution_count": 13,
   "metadata": {},
   "outputs": [
    {
     "data": {
      "text/html": [
       "<div>\n",
       "<style scoped>\n",
       "    .dataframe tbody tr th:only-of-type {\n",
       "        vertical-align: middle;\n",
       "    }\n",
       "\n",
       "    .dataframe tbody tr th {\n",
       "        vertical-align: top;\n",
       "    }\n",
       "\n",
       "    .dataframe thead th {\n",
       "        text-align: right;\n",
       "    }\n",
       "</style>\n",
       "<table border=\"1\" class=\"dataframe\">\n",
       "  <thead>\n",
       "    <tr style=\"text-align: right;\">\n",
       "      <th></th>\n",
       "      <th>prosecutor</th>\n",
       "      <th>accused</th>\n",
       "      <th>secretary</th>\n",
       "      <th>advocate</th>\n",
       "    </tr>\n",
       "    <tr>\n",
       "      <th>number</th>\n",
       "      <th></th>\n",
       "      <th></th>\n",
       "      <th></th>\n",
       "      <th></th>\n",
       "    </tr>\n",
       "  </thead>\n",
       "  <tbody>\n",
       "    <tr>\n",
       "      <th>1</th>\n",
       "      <td>Амантаев Р.Р.</td>\n",
       "      <td>Рахимов ФИО13</td>\n",
       "      <td>Щербинина С.Ф.</td>\n",
       "      <td>Гиниятуллин Ф.Н.</td>\n",
       "    </tr>\n",
       "    <tr>\n",
       "      <th>2</th>\n",
       "      <td>Черкасова О.Ю.</td>\n",
       "      <td>Тимофеев А.В.</td>\n",
       "      <td>Тугульдурова Э.Ц.</td>\n",
       "      <td>Иванова О.В.</td>\n",
       "    </tr>\n",
       "    <tr>\n",
       "      <th>3</th>\n",
       "      <td>Рябцев А.И.</td>\n",
       "      <td>КВВ</td>\n",
       "      <td>Тиханова А.Ю.</td>\n",
       "      <td>Зуев В.И.</td>\n",
       "    </tr>\n",
       "    <tr>\n",
       "      <th>4</th>\n",
       "      <td>Рябцев А.И.</td>\n",
       "      <td>Астафьева Н.Е.</td>\n",
       "      <td>Самойленко Е.В.</td>\n",
       "      <td>Салмина Ю.В.</td>\n",
       "    </tr>\n",
       "    <tr>\n",
       "      <th>5</th>\n",
       "      <td>Абушинов В.В.</td>\n",
       "      <td>Маджаров В.Б.</td>\n",
       "      <td>Куськеева Л.И.</td>\n",
       "      <td>Павлов Р.Б.</td>\n",
       "    </tr>\n",
       "  </tbody>\n",
       "</table>\n",
       "</div>"
      ],
      "text/plain": [
       "            prosecutor         accused          secretary          advocate\n",
       "number                                                                     \n",
       "1        Амантаев Р.Р.   Рахимов ФИО13     Щербинина С.Ф.  Гиниятуллин Ф.Н.\n",
       "2       Черкасова О.Ю.   Тимофеев А.В.  Тугульдурова Э.Ц.      Иванова О.В.\n",
       "3          Рябцев А.И.             КВВ      Тиханова А.Ю.         Зуев В.И.\n",
       "4          Рябцев А.И.  Астафьева Н.Е.    Самойленко Е.В.      Салмина Ю.В.\n",
       "5        Абушинов В.В.   Маджаров В.Б.     Куськеева Л.И.       Павлов Р.Б."
      ]
     },
     "execution_count": 13,
     "metadata": {},
     "output_type": "execute_result"
    }
   ],
   "source": [
    "goldstandard.head()"
   ]
  },
  {
   "cell_type": "code",
   "execution_count": 32,
   "metadata": {},
   "outputs": [],
   "source": [
    "def names_comparison(name1, name2):\n",
    "    a = len(name1.split()[0][0:-2])\n",
    "    name1_splitted = name1.split()[0][:a] + \" \" + name1.split()[1]\n",
    "    name2_splitted = name2.split()[0][:a] + \" \" + name2.split()[1] \n",
    "    if name1_splitted == name2_splitted: \n",
    "        equal = 1\n",
    "    else:\n",
    "        equal = 0\n",
    "    return equal"
   ]
  },
  {
   "cell_type": "code",
   "execution_count": 33,
   "metadata": {},
   "outputs": [],
   "source": [
    "def wrong_or_right(gold_words, predicted_words, cases):\n",
    "    count_right = 0\n",
    "    count_wrong = 0\n",
    "    for i, word in enumerate(gold_words):\n",
    "        if cases == False:\n",
    "            if word == predicted_words[i]:\n",
    "                count_right += 1\n",
    "            else:\n",
    "                count_wrong += 1 \n",
    "        if cases == True:\n",
    "            try:\n",
    "                if names_comparison(word, predicted_words[i]) == 1:\n",
    "                    count_right += 1\n",
    "                else:\n",
    "                    count_wrong += 1  \n",
    "            except IndexError:\n",
    "                if word == predicted_words[i]:\n",
    "                    count_right += 1\n",
    "                else:\n",
    "                    count_wrong += 1   \n",
    "    return (count_right/len(gold_words), count_wrong/len(gold_words))"
   ]
  },
  {
   "cell_type": "code",
   "execution_count": 34,
   "metadata": {},
   "outputs": [],
   "source": [
    "secretaries_gold = list(goldstandard[\"secretary\"])\n",
    "accuseds_gold = list(goldstandard[\"accused\"])\n",
    "prosecutors_gold = list(goldstandard[\"prosecutor\"])\n",
    "advocates_gold = list(goldstandard[\"advocate\"])"
   ]
  },
  {
   "cell_type": "code",
   "execution_count": 35,
   "metadata": {},
   "outputs": [
    {
     "data": {
      "text/plain": [
       "(0.6, 0.4)"
      ]
     },
     "execution_count": 35,
     "metadata": {},
     "output_type": "execute_result"
    }
   ],
   "source": [
    "wrong_or_right(secretaries_gold, secretaries, False)"
   ]
  },
  {
   "cell_type": "code",
   "execution_count": 36,
   "metadata": {},
   "outputs": [
    {
     "data": {
      "text/plain": [
       "(0.83, 0.17)"
      ]
     },
     "execution_count": 36,
     "metadata": {},
     "output_type": "execute_result"
    }
   ],
   "source": [
    "wrong_or_right(secretaries_gold, secretaries, True)"
   ]
  },
  {
   "cell_type": "code",
   "execution_count": 37,
   "metadata": {},
   "outputs": [
    {
     "data": {
      "text/plain": [
       "(0.61, 0.39)"
      ]
     },
     "execution_count": 37,
     "metadata": {},
     "output_type": "execute_result"
    }
   ],
   "source": [
    "wrong_or_right(accuseds_gold, accuseds, True)"
   ]
  },
  {
   "cell_type": "code",
   "execution_count": 38,
   "metadata": {},
   "outputs": [
    {
     "data": {
      "text/plain": [
       "(0.85, 0.15)"
      ]
     },
     "execution_count": 38,
     "metadata": {},
     "output_type": "execute_result"
    }
   ],
   "source": [
    "wrong_or_right(prosecutors_gold, prosecutors, True)"
   ]
  },
  {
   "cell_type": "code",
   "execution_count": 39,
   "metadata": {},
   "outputs": [
    {
     "data": {
      "text/plain": [
       "(0.7825, 0.2175)"
      ]
     },
     "execution_count": 39,
     "metadata": {},
     "output_type": "execute_result"
    }
   ],
   "source": [
    "wrong_or_right(all_people_gold, all_people, True)"
   ]
  },
  {
   "cell_type": "code",
   "execution_count": 40,
   "metadata": {},
   "outputs": [
    {
     "data": {
      "text/plain": [
       "(0.84, 0.16)"
      ]
     },
     "execution_count": 40,
     "metadata": {},
     "output_type": "execute_result"
    }
   ],
   "source": [
    "wrong_or_right(advocates_gold, advocates, True)"
   ]
  },
  {
   "cell_type": "code",
   "execution_count": 41,
   "metadata": {},
   "outputs": [],
   "source": [
    "all_people = advocates + secretaries + accuseds + prosecutors\n",
    "all_people_gold = advocates_gold + secretaries_gold + accuseds_gold + prosecutors_gold"
   ]
  }
 ],
 "metadata": {
  "kernelspec": {
   "display_name": "Python 3",
   "language": "python",
   "name": "python3"
  },
  "language_info": {
   "codemirror_mode": {
    "name": "ipython",
    "version": 3
   },
   "file_extension": ".py",
   "mimetype": "text/x-python",
   "name": "python",
   "nbconvert_exporter": "python",
   "pygments_lexer": "ipython3",
   "version": "3.7.1"
  }
 },
 "nbformat": 4,
 "nbformat_minor": 2
}
