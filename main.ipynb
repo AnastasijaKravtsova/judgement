{
 "cells": [
  {
   "cell_type": "markdown",
   "metadata": {},
   "source": [
    "Главный модуль обработки. Использует все модули, и собирает их в один пайплайн. "
   ]
  },
  {
   "cell_type": "code",
   "execution_count": 1,
   "metadata": {},
   "outputs": [
    {
     "name": "stdout",
     "output_type": "stream",
     "text": [
      "importing Jupyter notebook from preprocessing.ipynb\n",
      "Requirement already satisfied: import-ipynb in /anaconda3/lib/python3.7/site-packages (0.1.3)\n",
      "importing Jupyter notebook from meta_extraction.ipynb\n",
      "importing Jupyter notebook from names_hider.ipynb\n"
     ]
    }
   ],
   "source": [
    "import import_ipynb\n",
    "from preprocessing import preprocess\n",
    "from meta_extraction import get_meta_data\n",
    "from names_hider import hide_all_names"
   ]
  },
  {
   "cell_type": "code",
   "execution_count": 5,
   "metadata": {},
   "outputs": [],
   "source": [
    "def process_judgement(path):\n",
    "    try:\n",
    "        (begin, main, end), base_meta_data = preprocess(path)\n",
    "        additional_meta_data = get_meta_data(begin)\n",
    "        #         merge_meta_data(base_meta_data, additional_meta_data) # нужно дописать\n",
    "        text_with_hidden_names = hide_all_names(main)\n",
    "        return text_with_hidden_names\n",
    "    except Exception as ex:\n",
    "        print(path, ex, sep=\": \")\n",
    "        return None"
   ]
  },
  {
   "cell_type": "code",
   "execution_count": 6,
   "metadata": {},
   "outputs": [
    {
     "name": "stdout",
     "output_type": "stream",
     "text": [
      "CPU times: user 3.33 s, sys: 13 ms, total: 3.35 s\n",
      "Wall time: 3.37 s\n"
     ]
    },
    {
     "data": {
      "text/plain": [
       "' Есин ФИО DIGIT  совершил покушение на открытое хищение чужого имущества. \\n Преступление совершено в <адрес> при следующих обстоятельствах.\\n  DATE ГГ в  DIGIT  DIGIT  часу, Есин А. В., находясь в состоянии алкогольного опьянения в квартире №  DIGIT  дома №  DIGIT  DIGIT  по <адрес>, решил для себя совершить тайное хищение, принадлежащего Лебедевой Т. В., телевизора марки «Samsung» в корпусе черного цвета с диагональю экрана  DIGIT  DIGIT  см., модели SVC CS  DIGIT  DIGIT  C  DIGIT  MX/BW  DIGIT , \\n Имея умысел на тайное хищение чужого имущества, действуя из корыстных побуждений, Есин А. В. прошел в зал к стоящему на тумбочке телевизору марки «Samsung», стоимостью  DIGIT  DIGIT  DIGIT  DIGIT  рублей, отсоединил электрошнур от сети, взял его в руки и пошел с ним к выходу из квартиры. \\n В это время его противоправные действия стали очевидны Лебедевой Т.В., которая, увидев, что Есин А. В. совершает хищение принадлежащего ей телевизора, потребовала от того вернуть телевизор. \\n PROSECUTOR, осознавая, что его противоправные действия стали очевидны потерпевшей, не обращая внимания на ее требования, продолжил движение с телевизором к выходу из квартиры. \\n Лебедева Т.В. преградила ему выход из квартиры и, удерживая последнего за одежду, потребовала вернуть телевизор, пригрозив тем, что вызовет сотрудников полиции, на что Есин А. В., игнорируя требования, продолжил движение с телевизором к выходу из квартиры, но довести свой преступный умысел не представилось возможным по независящим от него обстоятельствам, так как его действия были пресечены находившимся в квартире Зениным В. А.\\n Подсудимым заявлено о согласии с предъявленным обвинением, а также ходатайство о постановлении приговора без проведения судебного разбирательства. \\n Данное ходатайство заявлено им добровольно, после проведения консультаций с защитником, он осознаёт характер и последствия заявленного ходатайства.\\n Защитник подсудимого поддержал ходатайство подзащитного.\\n Государственный обвинитель дал согласие на постановление приговора без судебного разбирательства.\\n Суд приходит к выводу о том, что условия, предусмотренные  ABBR  ABBR   DIGIT  -  DIGIT   ABBR   DIGIT  DIGIT  DIGIT   DOCUMENT  соблюдены, в данном случае, возможно, постановить приговор в отношении Есина А. В. без проведения судебного разбирательства. \\n Обвинение, с которым тот согласился, обоснованно, подтверждается доказательствами, собранными по уголовному делу, что в силу требований  ABBR   DIGIT   ABBR   DIGIT  DIGIT  DIGIT   DOCUMENT  является основанием для вынесения в отношении его обвинительного приговора и назначения наказания.\\n Действия Есина ФИО DIGIT  DIGIT  следует квалифицировать  ABBR   DIGIT   ABBR   DIGIT  DIGIT  -  ABBR   DIGIT   ABBR   DIGIT  DIGIT  DIGIT   DOCUMENT , как покушение на грабеж, то есть открытое хищение чужого имущества.\\n При назначении вида наказания, суд учитывает характер и степень общественной опасности совершенного подсудимым, что преступление совершено из корыстных побуждений и законом отнесено к категории средней тяжести, способ его совершения, по месту жительства характеризуется отрицательно (л. д.  DIGIT  DIGIT )\\n При назначении меры наказания суд учитывает то, что подсудимый судимости не имеет (л. д.  DIGIT  DIGIT ), виновным себя признал, в ходе дознания своими показаниями способствовал установлению истины по делу. \\n Данные обстоятельства, и то, что подсудимый до возбуждения уголовного дела явился с повинной суд признаёт обстоятельствами, смягчающими ему наказание.\\n Наряду с этим, при назначении меры наказания подсудимому, суд должен руководствоваться правилами норм  DOCUMENT  и  DOCUMENT , а именно  ABBR   DIGIT   ABBR   DIGIT  DIGIT   DOCUMENT , так как установлена его вина в покушении на совершение преступления,  ABBR   DIGIT   ABBR   DIGIT  DIGIT  DIGIT   DOCUMENT  - применен особый порядок принятия судебного решения, и  ABBR   DIGIT  DIGIT   DOCUMENT , так как дана явка с повинной, и обстоятельств, отягчающих наказание, не установлено.\\n Исходя из всех обстоятельств по делу, суд приходит к выводу о возможном исправлении Есина А. В. без реального отбывания им наказания, что влечёт применение требований  ABBR   DIGIT  DIGIT   DOCUMENT . \\n Во исполнение требований  ABBR   DIGIT   ABBR   DIGIT   ABBR   DIGIT  DIGIT  DIGIT   DOCUMENT , суд считает необходимым вещественное доказательство по делу – телевизор марки «Samsung» в корпусе черного цвета с диагональю экрана  DIGIT  DIGIT  см., модели SVC CS  DIGIT  DIGIT  C  DIGIT  MX/BW  DIGIT , после вступления приговора в законную силу оставить в распоряжении собственника Лебедевой ФИО DIGIT  DIGIT \\n Из материалов дела усматривается, что за осуществление защиты интересов подсудимого в ходе дознания адвокатом Бабичевым В. И. со средств федерального бюджета в пользу коллегии адвокатов «Краснозерская» Новосибирской области взыскан гонорар в сумме  DIGIT  DIGIT  DIGIT  рублей (л. д.  DIGIT  DIGIT ), что составляет процессуальные издержки, которые должны быть отнесены на счёт средств федерального бюджета, так как, в соответствие требований  ABBR   DIGIT  DIGIT   ABBR   DIGIT  DIGIT  DIGIT   DOCUMENT , процессуальные издержки, предусмотренные  ABBR   DIGIT  DIGIT  DIGIT   DOCUMENT , при постановлении приговора без проведения судебного разбирательства в связи с согласием подсудимого с предъявленным обвинением, взысканию с осуждённого не подлежат.\\n На основании изложенного и руководствуясь  ABBR   ABBR   DIGIT  DIGIT  DIGIT  -  DIGIT  DIGIT  DIGIT ,  DIGIT  DIGIT  DIGIT  -  DIGIT  DIGIT  DIGIT ,  DIGIT  DIGIT  DIGIT  –  DIGIT  DIGIT  DIGIT   DOCUMENT , суд\\n '"
      ]
     },
     "execution_count": 6,
     "metadata": {},
     "output_type": "execute_result"
    }
   ],
   "source": [
    "%%time\n",
    "process_judgement('data/krasnozerskij-rajonnyj-sud-novosibirskaya-oblast-986/2012/104630041.xml')"
   ]
  },
  {
   "cell_type": "code",
   "execution_count": null,
   "metadata": {},
   "outputs": [],
   "source": []
  }
 ],
 "metadata": {
  "kernelspec": {
   "display_name": "Python 3",
   "language": "python",
   "name": "python3"
  },
  "language_info": {
   "codemirror_mode": {
    "name": "ipython",
    "version": 3
   },
   "file_extension": ".py",
   "mimetype": "text/x-python",
   "name": "python",
   "nbconvert_exporter": "python",
   "pygments_lexer": "ipython3",
   "version": "3.7.3"
  }
 },
 "nbformat": 4,
 "nbformat_minor": 2
}
