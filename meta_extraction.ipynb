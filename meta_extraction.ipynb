{
 "cells": [
  {
   "cell_type": "code",
   "execution_count": 1,
   "metadata": {},
   "outputs": [],
   "source": [
    "import os\n",
    "from bs4 import BeautifulSoup\n",
    "from natasha import NamesExtractor  \n",
    "import json\n",
    "extractor = NamesExtractor()\n",
    "import re\n",
    "#регулярка для имён\n",
    "fio = re.compile(\"[А-ЯЁ][а-яё]+ [А-ЯЁ]\\.[А-ЯЁ]\\.\")\n",
    "fio_cifer = re.compile(\"[А-ЯЁ][а-яё]+ ФИО[0-9]{1,3}\")\n",
    "fio_short = re.compile(\"ФИО[0-9]{1,3}\")\n",
    "import pandas as pd"
   ]
  },
  {
   "cell_type": "markdown",
   "metadata": {},
   "source": [
    "***Эта тетрадка экспортирует только одну функцию get_meta_data, которая принимает текст, а возвращает словарь метаданных(участников судебного процесса)***"
   ]
  },
  {
   "cell_type": "markdown",
   "metadata": {},
   "source": [
    "### Собираем готовые метаданные"
   ]
  },
  {
   "cell_type": "markdown",
   "metadata": {},
   "source": [
    "Функция, которая возвращает эксплицитно указанные метаданные и очищенный от тегов текст, а также создаёт словарь, который включает другие метаданные (прокурора, адвоката, секретаря, обвиняемого):"
   ]
  },
  {
   "cell_type": "markdown",
   "metadata": {},
   "source": [
    "Функция, которая достаёт из строчки русское имя в формате И.И. Иванов:"
   ]
  },
  {
   "cell_type": "code",
   "execution_count": 5,
   "metadata": {},
   "outputs": [],
   "source": [
    "def get_names(line):\n",
    "    name = \"\"\n",
    "    matches = extractor(line)\n",
    "    for match in matches:\n",
    "        fact = match.fact.as_json \n",
    "        name = fact[\"first\"]+\".\"+fact[\"middle\"]+\". \"+fact[\"last\"].capitalize()\n",
    "    return name"
   ]
  },
  {
   "cell_type": "markdown",
   "metadata": {},
   "source": [
    "Функция, которая:\n",
    "- разбивает текст на три основные части с помощью get_parts\n",
    "- разбивает вступление либо по запятой (по умолчанию), либо по переносу строки (если запятая не отделяет одни сущности от других)"
   ]
  },
  {
   "cell_type": "code",
   "execution_count": 6,
   "metadata": {},
   "outputs": [],
   "source": [
    "def splitting_text(text):\n",
    "    lines = []\n",
    "    trouble_counter = 0\n",
    "    splitted_text = text.split(\"с участием\")\n",
    "    for part in splitted_text:\n",
    "        lines += [line for line in part.split(\"\\n\") if line.strip()]\n",
    "    for line in lines:\n",
    "        if len(fio.findall(line)) > 1:\n",
    "            trouble_counter += 1\n",
    "    if trouble_counter != 0:\n",
    "        for part in splitted_text:\n",
    "            lines = [line for line in part.split(\",\") if line.strip()]\n",
    "    return lines       "
   ]
  },
  {
   "cell_type": "markdown",
   "metadata": {},
   "source": [
    "Функция, которая достаёт строки рядом с нужными нам ключевыми словами, в которых содержатся ФИО:"
   ]
  },
  {
   "cell_type": "code",
   "execution_count": 8,
   "metadata": {},
   "outputs": [],
   "source": [
    "def meta_lines(text):\n",
    "    lines = splitting_text(text) \n",
    "    add_meta = []\n",
    "    for i, line in enumerate(lines):  \n",
    "        if \"защитник\" in line.lower() or \"адвокат\" in line.lower(): \n",
    "            if fio.findall(line):\n",
    "                add_meta.append((\"advocate\", line)) \n",
    "            else:\n",
    "                add_meta.append((\"advocate\", line+lines[i+1])) \n",
    "        if \"прокурор\" in line.lower() or \"обвинител\" in line.lower():  \n",
    "            if fio.findall(line):\n",
    "                add_meta.append((\"prosecutor\", line)) \n",
    "            else:\n",
    "                add_meta.append((\"prosecutor\", line+lines[i+1]))  \n",
    "        if \"секретар\" in line.lower():\n",
    "            if fio.findall(line):\n",
    "                add_meta.append((\"secretary\", line)) \n",
    "            else:\n",
    "                add_meta.append((\"secretary\", line+lines[i+1])) \n",
    "        if \"подсудим\" in line.lower() or \"в отношении\" in line.lower():\n",
    "            if fio_cifer.findall(line):\n",
    "                add_meta.append((\"accused\", line)) \n",
    "            elif fio_short.findall(line):\n",
    "                add_meta.append((\"accused\", line)) \n",
    "            elif fio.findall(line): \n",
    "                add_meta.append((\"accused\", line)) \n",
    "            else:\n",
    "                if i+1 < len(lines):\n",
    "                    add_meta.append((\"accused\", line+lines[i+1])) \n",
    "    return add_meta"
   ]
  },
  {
   "cell_type": "markdown",
   "metadata": {},
   "source": [
    "Функция, которая достаёт из полученных выше строк ФИО формата: (\"роль в суде\", \"ФИО\"):"
   ]
  },
  {
   "cell_type": "code",
   "execution_count": 9,
   "metadata": {},
   "outputs": [],
   "source": [
    "def get_meta_names(meta_lines):\n",
    "    meta_names = []\n",
    "    for line in meta_lines:         \n",
    "        matches = extractor(line[1]) \n",
    "        if line[0] == \"accused\":\n",
    "            if fio_cifer.findall(line[1]):\n",
    "                meta_names.append((line[0], fio_cifer.findall(line[1])[0]))\n",
    "            elif fio_short.findall(line[1]):\n",
    "                meta_names.append((line[0], fio_short.findall(line[1])[0]))\n",
    "            elif matches:\n",
    "                try:\n",
    "                    for match in matches:\n",
    "                        fact = match.fact.as_json \n",
    "                        meta_names.append((line[0], (fact[\"last\"].capitalize()+\" \"+fact[\"first\"]+\".\"+fact[\"middle\"]+\".\")))\n",
    "                except KeyError:\n",
    "                    if fio.findall(line[1]): \n",
    "                        meta_names.append((line[0], fio.findall(line[1])[0]))\n",
    "            elif fio.findall(line[1]): \n",
    "                meta_names.append((line[0], fio.findall(line[1])[0]))\n",
    "        else:\n",
    "            if matches:\n",
    "                try:\n",
    "                    for match in matches:\n",
    "                        fact = match.fact.as_json \n",
    "                        meta_names.append((line[0], (fact[\"last\"].capitalize()+\" \"+fact[\"first\"]+\".\"+fact[\"middle\"]+\".\")))\n",
    "                except KeyError:\n",
    "                    if fio.findall(line[1]): \n",
    "                        meta_names.append((line[0], fio.findall(line[1])[0]))\n",
    "            elif fio.findall(line[1]): \n",
    "                meta_names.append((line[0], fio.findall(line[1])[0]))\n",
    "    return meta_names"
   ]
  },
  {
   "cell_type": "markdown",
   "metadata": {},
   "source": [
    "Функция, которая:\n",
    "- приводит список с ролями и именами к упорядоченному списку без повторений в нём\n",
    "- достаёт готовые метаданные с помощью parse_xml в формате словаря\n",
    "- объединяет те записи из списка, для которых первое значение (роль) совпадают: (адвокат, \"Петров А.П.\") и (адвокат, \"Семёнова Д.В.\") приводятся к форме (адвокат, \"Петров А.П., Семенова Д.В.\")\n",
    "- добавляет полученные записи из списка в словарь метаданных"
   ]
  },
  {
   "cell_type": "code",
   "execution_count": 10,
   "metadata": {},
   "outputs": [],
   "source": [
    "def names_to_meta(text):\n",
    "    meta_data = {}\n",
    "    updated_names = []\n",
    "    unique_names = list(set(get_meta_names(meta_lines(text))))\n",
    "    unique_names.sort()\n",
    "    #объединение кортежей с одинаковыми нулевыми значениями \n",
    "    for i, name in enumerate(unique_names):\n",
    "        if i+1 < len(unique_names):\n",
    "            if name[0] == unique_names[i+1][0]:\n",
    "                updated_names.append((name[0], name[1]+\", \"+unique_names[i+1][1]))\n",
    "            elif name[0] != unique_names[i-1][0] or i == 0: \n",
    "                updated_names.append((name[0], name[1]))\n",
    "        elif i+1 >= len(unique_names) and name[0] != unique_names[i-1][0]:\n",
    "            updated_names.append((name[0], name[1]))\n",
    "        elif len(unique_names) == 1:\n",
    "            updated_names.append((name[0], name[1]))\n",
    "\n",
    "    for name in updated_names:\n",
    "        meta_data[name[0]] = name[1] \n",
    "    return meta_data"
   ]
  },
  {
   "cell_type": "markdown",
   "metadata": {},
   "source": [
    "Убираем разные падежи для одного имени:"
   ]
  },
  {
   "cell_type": "code",
   "execution_count": 13,
   "metadata": {},
   "outputs": [],
   "source": [
    "def killing_doubles(text):\n",
    "    names_dict = names_to_meta(text)\n",
    "    no_doubles_dict = {}\n",
    "    for role in names_dict:\n",
    "        if type(names_dict[role]) == str:\n",
    "            names_list = names_dict[role].split(\",\") \n",
    "            if \",\" in names_dict[role]:\n",
    "                for n, name in enumerate(names_list): \n",
    "                    if fio.findall(name): \n",
    "                        if n > 0 and name.split()[1] == names_list[n-1].split()[1]  and name.split()[0][:len(name.split()[0])-2] == names_list[n-1].split()[0][0:len(name.split()[0])-2]:\n",
    "                            names_list.pop(n)\n",
    "            no_doubles_dict[role] = names_list\n",
    "        else:\n",
    "            no_doubles_dict[role] = [names_dict[role]]\n",
    "    return no_doubles_dict"
   ]
  },
  {
   "cell_type": "markdown",
   "metadata": {},
   "source": [
    "Финальные метаданные:"
   ]
  },
  {
   "cell_type": "code",
   "execution_count": 1,
   "metadata": {},
   "outputs": [],
   "source": [
    "def get_meta_data(text):\n",
    "    dict_with_lists = killing_doubles(text)\n",
    "    final_meta_dict = {}\n",
    "    for role in dict_with_lists:\n",
    "        if len(dict_with_lists[role]) == 1:\n",
    "            final_meta_dict[role] = dict_with_lists[role][0]\n",
    "        else:\n",
    "            final_meta_dict[role] = \",\".join(dict_with_lists[role])\n",
    "    return final_meta_dict"
   ]
  },
  {
   "cell_type": "markdown",
   "metadata": {},
   "source": [
    "**Весь код ниже работает с путями до файлов и папок, что не относится к извлечению мета-информации из текста**"
   ]
  },
  {
   "cell_type": "markdown",
   "metadata": {},
   "source": [
    "Функция, которая достаёт ссылки, которые лежат внутри папки (для папки без вложенных папок):"
   ]
  },
  {
   "cell_type": "code",
   "execution_count": 105,
   "metadata": {},
   "outputs": [],
   "source": [
    "def links_for_folder(path_to_folder):\n",
    "    paths = []\n",
    "    for f in os.walk(path_to_folder):\n",
    "        for path in f[2]:\n",
    "            paths.append(path_to_folder+path)\n",
    "    return paths"
   ]
  },
  {
   "cell_type": "markdown",
   "metadata": {},
   "source": [
    "Функция, которая возвращает словари метаданных для всех документов в папке и также возвращает количество ошибок во время извлечения:"
   ]
  },
  {
   "cell_type": "code",
   "execution_count": 106,
   "metadata": {},
   "outputs": [],
   "source": [
    "def dicts_for_folder(path_to_folder):\n",
    "    kerror_counter = 0\n",
    "    kerror_cases = []\n",
    "    terror_counter = 0\n",
    "    terror_cases = []\n",
    "    folder_dicts = []\n",
    "    for path in links_for_folder(path_to_folder): \n",
    "        try:\n",
    "            folder_dicts.append(final_meta(path))\n",
    "        except KeyError: \n",
    "            kerror_counter += 1\n",
    "            kerror_cases.append(path)\n",
    "            continue\n",
    "        except TypeError: \n",
    "            terror_counter += 1\n",
    "            terror_cases.append(path)\n",
    "            continue\n",
    "    return folder_dicts, (kerror_counter, kerror_cases), (terror_counter, terror_cases)"
   ]
  },
  {
   "cell_type": "markdown",
   "metadata": {},
   "source": [
    "Функция, которая создаёт для заданной папки датафрейм с метаинформацией:"
   ]
  },
  {
   "cell_type": "code",
   "execution_count": 107,
   "metadata": {},
   "outputs": [],
   "source": [
    "def df_for_folder(path_to_folder):\n",
    "    case_list = dicts_for_folder(path_to_folder)[0]\n",
    "    base_df = pd.DataFrame.from_dict(case_list[0], orient = \"index\")\n",
    "    folder_df = base_df.T\n",
    "    for case in case_list[1:]:\n",
    "        folder_df.loc[len(folder_df)] = pd.DataFrame.from_dict(case, orient = \"index\").T.loc[0]   \n",
    "    return folder_df"
   ]
  }
 ],
 "metadata": {
  "kernelspec": {
   "display_name": "Python 3",
   "language": "python",
   "name": "python3"
  },
  "language_info": {
   "codemirror_mode": {
    "name": "ipython",
    "version": 3
   },
   "file_extension": ".py",
   "mimetype": "text/x-python",
   "name": "python",
   "nbconvert_exporter": "python",
   "pygments_lexer": "ipython3",
   "version": "3.6.5"
  }
 },
 "nbformat": 4,
 "nbformat_minor": 2
}
